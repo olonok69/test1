{
 "cells": [
  {
   "cell_type": "code",
   "execution_count": 2,
   "id": "e84207bc-3205-4352-8d98-3718322803b5",
   "metadata": {},
   "outputs": [],
   "source": [
    "# import mlflow\n",
    "\n",
    "# with mlflow.start_run():\n",
    "#     mlflow.doctor()"
   ]
  },
  {
   "cell_type": "code",
   "execution_count": 1,
   "id": "baa4dfdf-79d0-4999-b76f-edbb09d0f1af",
   "metadata": {},
   "outputs": [],
   "source": [
    "import mlflow\n",
    "from sklearn.model_selection import train_test_split\n",
    "from sklearn.datasets import load_diabetes\n",
    "from sklearn.ensemble import RandomForestRegressor\n",
    "import pandas as pd\n",
    "# set the experiment id\n",
    "mlflow.set_tracking_uri(\"http://localhost:5000\") \n",
    "experiment_name = \"test3\"\n",
    "try:\n",
    "    mlflow.create_experiment(experiment_name)\n",
    "except:\n",
    "    print(\"experiment exists\")\n",
    "mlflow.set_experiment(experiment_name)\n",
    "\n",
    "mlflow.sklearn.autolog(disable_for_unsupported_versions=True)"
   ]
  },
  {
   "cell_type": "code",
   "execution_count": 2,
   "id": "97d86e0a-c1ed-421d-9bf1-508e165eaee6",
   "metadata": {},
   "outputs": [
    {
     "name": "stderr",
     "output_type": "stream",
     "text": [
      "2024/05/11 14:36:02 WARNING mlflow.utils.autologging_utils: MLflow autologging encountered a warning: \"/home/olonok/anaconda3/envs/mlflow/lib/python3.11/site-packages/_distutils_hack/__init__.py:26: UserWarning: Setuptools is replacing distutils.\"\n",
      "Successfully registered model 'rf_model_version'.\n",
      "2024/05/11 14:36:06 INFO mlflow.store.model_registry.abstract_store: Waiting up to 300 seconds for model version to finish creation. Model name: rf_model_version, version 1\n",
      "Created version '1' of model 'rf_model_version'.\n"
     ]
    }
   ],
   "source": [
    "db = load_diabetes()\n",
    "with mlflow.start_run() as run:\n",
    "    mlflow.sklearn.autolog(disable_for_unsupported_versions=True, disable=False)\n",
    "    X_train, X_test, y_train, y_test = train_test_split(db.data, db.target)\n",
    "    # Create and train models.\n",
    "    rf = RandomForestRegressor(n_estimators=100, max_depth=6, max_features=3)\n",
    "    rf.fit(X_train, y_train)\n",
    "    \n",
    "    # Use the model to make predictions on the test dataset.\n",
    "    predictions = rf.predict(X_test)\n",
    "    predictions = pd.DataFrame(predictions, columns=[\"predictions\"])\n",
    "    predictions.to_csv(\"data/predictions.csv\", index=False)\n",
    "    model_info = mlflow.sklearn.log_model(rf, artifact_path = \"models\", registered_model_name=\"rf_model_version\")\n",
    "    mlflow.log_artifact(\"data/predictions.csv\", artifact_path=\"predictions\")"
   ]
  },
  {
   "cell_type": "code",
   "execution_count": 9,
   "id": "181c2ef4-0afb-429a-bed8-e57a3f98deb7",
   "metadata": {},
   "outputs": [
    {
     "name": "stderr",
     "output_type": "stream",
     "text": [
      "/tmp/ipykernel_18949/3949301596.py:1: FutureWarning: Field signature_dict is deprecated since v1.28.1. Use signature instead.\n",
      "  model_info.signature_dict\n"
     ]
    }
   ],
   "source": [
    "model_info"
   ]
  },
  {
   "cell_type": "code",
   "execution_count": 11,
   "id": "5fb30767-91fa-458a-ba5d-6fd64b94217d",
   "metadata": {},
   "outputs": [],
   "source": [
    "mlflow.end_run()"
   ]
  },
  {
   "cell_type": "code",
   "execution_count": null,
   "id": "b131ce0f-a9a9-4c63-88a5-70bea91025d6",
   "metadata": {},
   "outputs": [],
   "source": []
  },
  {
   "cell_type": "code",
   "execution_count": null,
   "id": "e407be39-272a-41bc-9001-ba9aebb5dc06",
   "metadata": {},
   "outputs": [],
   "source": []
  }
 ],
 "metadata": {
  "kernelspec": {
   "display_name": "Python 3 (ipykernel)",
   "language": "python",
   "name": "python3"
  },
  "language_info": {
   "codemirror_mode": {
    "name": "ipython",
    "version": 3
   },
   "file_extension": ".py",
   "mimetype": "text/x-python",
   "name": "python",
   "nbconvert_exporter": "python",
   "pygments_lexer": "ipython3",
   "version": "3.11.9"
  }
 },
 "nbformat": 4,
 "nbformat_minor": 5
}
