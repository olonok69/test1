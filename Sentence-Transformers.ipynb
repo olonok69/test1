{
 "cells": [
  {
   "cell_type": "code",
   "execution_count": 2,
   "id": "46e89555-9123-4e60-8678-d61bd0210427",
   "metadata": {},
   "outputs": [],
   "source": [
    "! pip install sentence_transformers -q"
   ]
  },
  {
   "cell_type": "code",
   "execution_count": 3,
   "id": "675569e5-7559-4cf9-94be-1eee34a1bade",
   "metadata": {},
   "outputs": [
    {
     "name": "stderr",
     "output_type": "stream",
     "text": [
      "/home/olonok/.local/lib/python3.11/site-packages/requests/__init__.py:102: RequestsDependencyWarning: urllib3 (1.26.13) or chardet (5.2.0)/charset_normalizer (2.0.12) doesn't match a supported version!\n",
      "  warnings.warn(\"urllib3 ({}) or chardet ({})/charset_normalizer ({}) doesn't match a supported \"\n"
     ]
    }
   ],
   "source": [
    "import warnings\n",
    "from typing import List\n",
    "\n",
    "import pandas as pd\n",
    "from sentence_transformers import SentenceTransformer, util\n",
    "\n",
    "import mlflow\n",
    "from mlflow.models.signature import infer_signature\n",
    "from mlflow.pyfunc import PythonModel\n",
    "\n",
    "\n",
    "class ParaphraseMiningModel(PythonModel):\n",
    "    def load_context(self, context):\n",
    "        \"\"\"Load the model context for inference, including the customer feedback corpus.\"\"\"\n",
    "        try:\n",
    "            # Load the pre-trained sentence transformer model\n",
    "            self.model = SentenceTransformer.load(context.artifacts[\"model_path\"])\n",
    "\n",
    "            # Load the customer feedback corpus from the specified file\n",
    "            corpus_file = context.artifacts[\"corpus_file\"]\n",
    "            with open(corpus_file) as file:\n",
    "                self.corpus = file.read().splitlines()\n",
    "\n",
    "        except Exception as e:\n",
    "            raise ValueError(f\"Error loading model and corpus: {e}\")\n",
    "\n",
    "    def _sort_and_filter_matches(\n",
    "        self, query: str, paraphrase_pairs: List[tuple], similarity_threshold: float\n",
    "    ):\n",
    "        \"\"\"Sort and filter the matches by similarity score.\"\"\"\n",
    "\n",
    "        # Convert to list of tuples and sort by score\n",
    "        sorted_matches = sorted(paraphrase_pairs, key=lambda x: x[1], reverse=True)\n",
    "\n",
    "        # Filter and collect paraphrases for the query, avoiding duplicates\n",
    "        query_paraphrases = {}\n",
    "        for score, i, j in sorted_matches:\n",
    "            if score < similarity_threshold:\n",
    "                continue\n",
    "\n",
    "            paraphrase = self.corpus[j] if self.corpus[i] == query else self.corpus[i]\n",
    "            if paraphrase == query:\n",
    "                continue\n",
    "\n",
    "            if paraphrase not in query_paraphrases or score > query_paraphrases[paraphrase]:\n",
    "                query_paraphrases[paraphrase] = score\n",
    "\n",
    "        return sorted(query_paraphrases.items(), key=lambda x: x[1], reverse=True)\n",
    "\n",
    "    def predict(self, context, model_input, params=None):\n",
    "        \"\"\"Predict method to perform paraphrase mining over the corpus.\"\"\"\n",
    "\n",
    "        # Validate and extract the query input\n",
    "        if isinstance(model_input, pd.DataFrame):\n",
    "            if model_input.shape[1] != 1:\n",
    "                raise ValueError(\"DataFrame input must have exactly one column.\")\n",
    "            query = model_input.iloc[0, 0]\n",
    "        elif isinstance(model_input, dict):\n",
    "            query = model_input.get(\"query\")\n",
    "            if query is None:\n",
    "                raise ValueError(\"The input dictionary must have a key named 'query'.\")\n",
    "        else:\n",
    "            raise TypeError(\n",
    "                f\"Unexpected type for model_input: {type(model_input)}. Must be either a Dict or a DataFrame.\"\n",
    "            )\n",
    "\n",
    "        # Determine the minimum similarity threshold\n",
    "        similarity_threshold = params.get(\"similarity_threshold\", 0.5) if params else 0.5\n",
    "\n",
    "        # Add the query to the corpus for paraphrase mining\n",
    "        extended_corpus = self.corpus + [query]\n",
    "\n",
    "        # Perform paraphrase mining\n",
    "        paraphrase_pairs = util.paraphrase_mining(\n",
    "            self.model, extended_corpus, show_progress_bar=False\n",
    "        )\n",
    "\n",
    "        # Convert to list of tuples and sort by score\n",
    "        sorted_paraphrases = self._sort_and_filter_matches(\n",
    "            query, paraphrase_pairs, similarity_threshold\n",
    "        )\n",
    "\n",
    "        # Warning if no paraphrases found\n",
    "        if not sorted_paraphrases:\n",
    "            warnings.warn(\"No paraphrases found above the similarity threshold.\", UserWarning)\n",
    "\n",
    "        return {sentence[0]: str(sentence[1]) for sentence in sorted_paraphrases}"
   ]
  },
  {
   "cell_type": "code",
   "execution_count": 4,
   "id": "79e5b398-e259-44e6-9cad-b547941a2fe3",
   "metadata": {},
   "outputs": [
    {
     "data": {
      "text/plain": [
       "<Experiment: artifact_location='file:///home/olonok/mlflow/mlruns/5', creation_time=1715349581360, experiment_id='5', last_update_time=1715349581360, lifecycle_stage='active', name='Sentence Transformers', tags={}>"
      ]
     },
     "execution_count": 4,
     "metadata": {},
     "output_type": "execute_result"
    }
   ],
   "source": [
    "mlflow.set_tracking_uri(\"http://localhost:5000\") \n",
    "experiment_name = \"Sentence Transformers\"\n",
    "try:\n",
    "    mlflow.create_experiment(experiment_name)\n",
    "except:\n",
    "    print(\"experiment exists\")\n",
    "mlflow.set_experiment(experiment_name)"
   ]
  },
  {
   "cell_type": "code",
   "execution_count": 5,
   "id": "33234491-3ced-4f21-9a84-8c0fcd29be27",
   "metadata": {},
   "outputs": [],
   "source": [
    "corpus = [\n",
    "    \"Exploring ancient cities in Europe offers a glimpse into history.\",\n",
    "    \"Modern AI technologies are revolutionizing industries.\",\n",
    "    \"Healthy eating contributes significantly to overall well-being.\",\n",
    "    \"Advancements in renewable energy are combating climate change.\",\n",
    "    \"Learning a new language opens doors to different cultures.\",\n",
    "    \"Gardening is a relaxing hobby that connects you with nature.\",\n",
    "    \"Blockchain technology could redefine digital transactions.\",\n",
    "    \"Homemade Italian pasta is a delight to cook and eat.\",\n",
    "    \"Practicing yoga daily improves both physical and mental health.\",\n",
    "    \"The art of photography captures moments in time.\",\n",
    "    \"Baking bread at home has become a popular quarantine activity.\",\n",
    "    \"Virtual reality is creating new experiences in gaming.\",\n",
    "    \"Sustainable travel is becoming a priority for eco-conscious tourists.\",\n",
    "    \"Reading books is a great way to unwind and learn.\",\n",
    "    \"Jazz music provides a rich tapestry of sound and rhythm.\",\n",
    "    \"Marathon training requires discipline and perseverance.\",\n",
    "    \"Studying the stars helps us understand our universe.\",\n",
    "    \"The rise of electric cars is an important environmental development.\",\n",
    "    \"Documentary films offer deep insights into real-world issues.\",\n",
    "    \"Crafting DIY projects can be both fun and rewarding.\",\n",
    "    \"The history of ancient civilizations is fascinating to explore.\",\n",
    "    \"Exploring the depths of the ocean reveals a world of marine wonders.\",\n",
    "    \"Learning to play a musical instrument can be a rewarding challenge.\",\n",
    "    \"Artificial intelligence is shaping the future of personalized medicine.\",\n",
    "    \"Cycling is not only a great workout but also eco-friendly transportation.\",\n",
    "    \"Home automation with IoT devices is enhancing living experiences.\",\n",
    "    \"Understanding quantum computing requires a grasp of complex physics.\",\n",
    "    \"A well-brewed cup of coffee is the perfect start to the day.\",\n",
    "    \"Urban farming is gaining popularity as a sustainable food source.\",\n",
    "    \"Meditation and mindfulness can lead to a more balanced life.\",\n",
    "    \"The popularity of podcasts has revolutionized audio storytelling.\",\n",
    "    \"Space exploration continues to push the boundaries of human knowledge.\",\n",
    "    \"Wildlife conservation is essential for maintaining biodiversity.\",\n",
    "    \"The fusion of technology and fashion is creating new trends.\",\n",
    "    \"E-learning platforms have transformed the educational landscape.\",\n",
    "    \"Dark chocolate has surprising health benefits when enjoyed in moderation.\",\n",
    "    \"Robotics in manufacturing is leading to more efficient production.\",\n",
    "    \"Creating a personal budget is key to financial well-being.\",\n",
    "    \"Hiking in nature is a great way to connect with the outdoors.\",\n",
    "    \"3D printing is innovating the way we create and manufacture objects.\",\n",
    "    \"Sommeliers can identify a wine's characteristics with just a taste.\",\n",
    "    \"Mind-bending puzzles and riddles are great for cognitive exercise.\",\n",
    "    \"Social media has a profound impact on communication and culture.\",\n",
    "    \"Urban sketching captures the essence of city life on paper.\",\n",
    "    \"The ethics of AI is a growing field in tech philosophy.\",\n",
    "    \"Homemade skincare remedies are becoming more popular.\",\n",
    "    \"Virtual travel experiences can provide a sense of adventure at home.\",\n",
    "    \"Ancient mythology still influences modern storytelling and literature.\",\n",
    "    \"Building model kits is a hobby that requires patience and precision.\",\n",
    "    \"The study of languages opens windows into different worldviews.\",\n",
    "    \"Professional esports has become a major global phenomenon.\",\n",
    "    \"The mysteries of the universe are unveiled through space missions.\",\n",
    "    \"Astronauts' experiences in space stations offer unique insights into life beyond Earth.\",\n",
    "    \"Telescopic observations bring distant galaxies within our view.\",\n",
    "    \"The study of celestial bodies helps us understand the cosmos.\",\n",
    "    \"Space travel advancements could lead to interplanetary exploration.\",\n",
    "    \"Observing celestial events provides valuable data for astronomers.\",\n",
    "    \"The development of powerful rockets is key to deep space exploration.\",\n",
    "    \"Mars rover missions are crucial in searching for extraterrestrial life.\",\n",
    "    \"Satellites play a vital role in our understanding of Earth's atmosphere.\",\n",
    "    \"Astrophysics is central to unraveling the secrets of space.\",\n",
    "    \"Zero gravity environments in space pose unique challenges and opportunities.\",\n",
    "    \"Space tourism might soon become a reality for many.\",\n",
    "    \"Lunar missions have contributed significantly to our knowledge of the moon.\",\n",
    "    \"The International Space Station is a hub for groundbreaking space research.\",\n",
    "    \"Studying comets and asteroids reveals information about the early solar system.\",\n",
    "    \"Advancements in space technology have implications for many scientific fields.\",\n",
    "    \"The possibility of life on other planets continues to intrigue scientists.\",\n",
    "    \"Black holes are among the most mysterious phenomena in space.\",\n",
    "    \"The history of space exploration is filled with remarkable achievements.\",\n",
    "    \"Future space missions could unlock the mysteries of dark matter.\",\n",
    "]\n",
    "\n",
    "# Write out the corpus to a file\n",
    "corpus_file = \"/tmp/feedback.txt\"\n",
    "with open(corpus_file, \"w\") as file:\n",
    "    for sentence in corpus:\n",
    "        file.write(sentence + \"\\n\")"
   ]
  },
  {
   "cell_type": "code",
   "execution_count": 6,
   "id": "0adab63e-a2f0-4863-ab1b-71bac9f664bc",
   "metadata": {},
   "outputs": [
    {
     "data": {
      "application/vnd.jupyter.widget-view+json": {
       "model_id": "a04fab817efa42258ff89f9032231362",
       "version_major": 2,
       "version_minor": 0
      },
      "text/plain": [
       "README.md:   0%|          | 0.00/10.7k [00:00<?, ?B/s]"
      ]
     },
     "metadata": {},
     "output_type": "display_data"
    },
    {
     "data": {
      "application/vnd.jupyter.widget-view+json": {
       "model_id": "3358e3e610ad48939b31c390b43d3824",
       "version_major": 2,
       "version_minor": 0
      },
      "text/plain": [
       "model.safetensors:   0%|          | 0.00/90.9M [00:00<?, ?B/s]"
      ]
     },
     "metadata": {},
     "output_type": "display_data"
    },
    {
     "data": {
      "text/plain": [
       "inputs: \n",
       "  ['query': string (required)]\n",
       "outputs: \n",
       "  ['This product is satisfactory and functions as expected.': string (required)]\n",
       "params: \n",
       "  ['similarity_threshold': double (default: 0.5)]"
      ]
     },
     "execution_count": 6,
     "metadata": {},
     "output_type": "execute_result"
    }
   ],
   "source": [
    "# Load a pre-trained sentence transformer model\n",
    "model = SentenceTransformer(\"all-MiniLM-L6-v2\")\n",
    "\n",
    "# Create an input example DataFrame\n",
    "input_example = pd.DataFrame({\"query\": [\"This product works well. I'm satisfied.\"]})\n",
    "\n",
    "# Save the model in the /tmp directory\n",
    "model_directory = \"/tmp/paraphrase_search_model\"\n",
    "model.save(model_directory)\n",
    "\n",
    "# Define the path for the corpus file\n",
    "corpus_file = \"/tmp/feedback.txt\"\n",
    "\n",
    "# Define the artifacts (paths to the model and corpus file)\n",
    "artifacts = {\"model_path\": model_directory, \"corpus_file\": corpus_file}\n",
    "\n",
    "# Generate test output for signature\n",
    "# Sample output for paraphrase mining could be a list of tuples (paraphrase, score)\n",
    "test_output = [{\"This product is satisfactory and functions as expected.\": \"0.8\"}]\n",
    "\n",
    "# Define the signature associated with the model\n",
    "# The signature includes the structure of the input and the expected output, as well as any parameters that\n",
    "# we would like to expose for overriding at inference time (including their default values if they are not overridden).\n",
    "signature = infer_signature(\n",
    "    model_input=input_example, model_output=test_output, params={\"similarity_threshold\": 0.5}\n",
    ")\n",
    "\n",
    "# Visualize the signature, showing our overridden inference parameter and its default.\n",
    "signature"
   ]
  },
  {
   "cell_type": "code",
   "execution_count": 7,
   "id": "0427a7a4-49e0-4e04-821d-f21733d82908",
   "metadata": {},
   "outputs": [
    {
     "data": {
      "application/vnd.jupyter.widget-view+json": {
       "model_id": "9785fcd70dfc49e6aee760ab21f62fa0",
       "version_major": 2,
       "version_minor": 0
      },
      "text/plain": [
       "Downloading artifacts:   0%|          | 0/11 [00:00<?, ?it/s]"
      ]
     },
     "metadata": {},
     "output_type": "display_data"
    },
    {
     "name": "stderr",
     "output_type": "stream",
     "text": [
      "2024/05/10 15:01:15 INFO mlflow.store.artifact.artifact_repo: The progress bar can be disabled by setting the environment variable MLFLOW_ENABLE_ARTIFACTS_PROGRESS_BAR to false\n"
     ]
    },
    {
     "data": {
      "application/vnd.jupyter.widget-view+json": {
       "model_id": "5067ec88b1c14745a29524a238a97406",
       "version_major": 2,
       "version_minor": 0
      },
      "text/plain": [
       "Downloading artifacts:   0%|          | 0/1 [00:00<?, ?it/s]"
      ]
     },
     "metadata": {},
     "output_type": "display_data"
    },
    {
     "name": "stderr",
     "output_type": "stream",
     "text": [
      "/home/olonok/.local/lib/python3.11/site-packages/_distutils_hack/__init__.py:33: UserWarning: Setuptools is replacing distutils.\n",
      "  warnings.warn(\"Setuptools is replacing distutils.\")\n"
     ]
    }
   ],
   "source": [
    "with mlflow.start_run() as run:\n",
    "    model_info = mlflow.pyfunc.log_model(\n",
    "        \"paraphrase_model\",\n",
    "        python_model=ParaphraseMiningModel(),\n",
    "        input_example=input_example,\n",
    "        signature=signature,\n",
    "        artifacts=artifacts,\n",
    "        pip_requirements=[\"sentence_transformers\"],\n",
    "    )"
   ]
  },
  {
   "cell_type": "code",
   "execution_count": 8,
   "id": "e08d95a5-2a27-42c8-9a9f-b6921f208462",
   "metadata": {},
   "outputs": [
    {
     "data": {
      "text/plain": [
       "{'Studying the stars helps us understand our universe.': '0.8207423090934753',\n",
       " 'The history of space exploration is filled with remarkable achievements.': '0.77706378698349',\n",
       " 'Exploring ancient cities in Europe offers a glimpse into history.': '0.7461956739425659',\n",
       " 'Space travel advancements could lead to interplanetary exploration.': '0.7090303897857666',\n",
       " 'Space exploration continues to push the boundaries of human knowledge.': '0.6893946528434753',\n",
       " 'The mysteries of the universe are unveiled through space missions.': '0.6830741763114929',\n",
       " 'The study of celestial bodies helps us understand the cosmos.': '0.6713583469390869'}"
      ]
     },
     "execution_count": 8,
     "metadata": {},
     "output_type": "execute_result"
    }
   ],
   "source": [
    "# Load our model by supplying the uri that was used to save the model artifacts\n",
    "loaded_dynamic = mlflow.pyfunc.load_model(model_info.model_uri)\n",
    "\n",
    "# Perform a quick validation that our loaded model is performing adequately\n",
    "loaded_dynamic.predict(\n",
    "    {\"query\": \"Space exploration is fascinating.\"}, params={\"similarity_threshold\": 0.65}\n",
    ")"
   ]
  },
  {
   "cell_type": "code",
   "execution_count": null,
   "id": "81a253a4-b189-40b2-9f2b-4e2b9087ebb0",
   "metadata": {},
   "outputs": [],
   "source": []
  }
 ],
 "metadata": {
  "kernelspec": {
   "display_name": "Python 3 (ipykernel)",
   "language": "python",
   "name": "python3"
  },
  "language_info": {
   "codemirror_mode": {
    "name": "ipython",
    "version": 3
   },
   "file_extension": ".py",
   "mimetype": "text/x-python",
   "name": "python",
   "nbconvert_exporter": "python",
   "pygments_lexer": "ipython3",
   "version": "3.11.4"
  }
 },
 "nbformat": 4,
 "nbformat_minor": 5
}
